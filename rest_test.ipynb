{
 "cells": [
  {
   "cell_type": "code",
   "execution_count": 3,
   "metadata": {},
   "outputs": [],
   "source": [
    "import requests\n",
    "import json\n",
    "\n",
    "\n",
    "##тест получения рекомендаций\n",
    "js = requests.get(\n",
    "    f\"http://localhost:5757/get_news\",\n",
    "    params={\"user_id\": 1, \"n_news\": 5, \"filter\": 1},\n",
    ")\n",
    "\n",
    "preds_dict = json.loads(js.content)"
   ]
  },
  {
   "cell_type": "code",
   "execution_count": null,
   "metadata": {},
   "outputs": [],
   "source": []
  },
  {
   "cell_type": "code",
   "execution_count": 4,
   "metadata": {},
   "outputs": [
    {
     "name": "stdout",
     "output_type": "stream",
     "text": [
      "[{'data': '2021-08-16 15:32:00', 'id': 94679073, 'title': 'Экотропу со смотровыми площадками и качелями откроют в будущем парке «Яуза» в сентябре'}, {'data': '2021-08-16 19:11:00', 'id': 7573050, 'title': 'Московские школьники получили три медали на Международной географической олимпиаде'}, {'data': '2021-08-17 07:02:01', 'id': 94701073, 'title': '92 процента городских объектов подготовили к отопительному сезону'}, {'data': '2021-08-17 07:03:00', 'id': 94605073, 'title': 'Корпус центра глазных болезней имени Гельмгольца реконструируют'}, {'data': '2021-08-17 09:06:00', 'id': 7574050, 'title': 'Сергей Собянин рассказал о развитии электротранспорта в Москве'}]\n",
      "[{'data': '2021-08-17 11:02:00', 'id': 94636073, 'title': 'Судьба артефакта: как археологические находки попадают в музеи'}, {'data': '2021-08-17 13:00:00', 'id': 94722073, 'title': 'Москвичи отправили на переработку около 500 тысяч тонн вторсырья за полгода'}, {'data': '2021-08-17 10:01:03', 'id': 94688073, 'title': 'На базе библиотеки № 110 откроется Культурный центр фронтовых поэтов'}, {'data': '2021-08-17 07:01:03', 'id': 94696073, 'title': 'Поговорить и получить услугу: как обновился голосовой помощник в приложении «Моя Москва»'}, {'data': '2021-08-17 07:01:05', 'id': 94707073, 'title': 'Надежный старт: как начать карьеру в Московском метрополитене'}]\n"
     ]
    }
   ],
   "source": [
    "print(preds_dict['history'][-5:])\n",
    "print(preds_dict['recommendations'])"
   ]
  },
  {
   "cell_type": "code",
   "execution_count": 5,
   "metadata": {},
   "outputs": [],
   "source": [
    "##сделаем тестовую новость с нужными полями\n",
    "test_news = {'id': 777777, 'url': '/news/item/777777/',\n",
    "             'title': '«Лидеры цифровой трансформации»: ИТ-разработчики сделали рекомендательную систему для mos.ru',\n",
    "             'date': '2021-11-07 08:07:00', \n",
    "             'tags': [{'title': 'премии'}, {'title': 'хакатон'}],\n",
    "             'spheres': [{'title': 'Экономика и предпринимательство'}, {'title': 'Наука и инновации'}, {'title': 'Технологии'}]}"
   ]
  },
  {
   "cell_type": "code",
   "execution_count": 6,
   "metadata": {},
   "outputs": [
    {
     "data": {
      "text/plain": [
       "{'status': 'ok'}"
      ]
     },
     "execution_count": 6,
     "metadata": {},
     "output_type": "execute_result"
    }
   ],
   "source": [
    "##добавим новость в индекс\n",
    "js = requests.post(\n",
    "    f\"http://localhost:5757/add_news\",\n",
    "    data={'news_dict': json.dumps(test_news)}\n",
    ")\n",
    "json.loads(js.content)"
   ]
  },
  {
   "cell_type": "code",
   "execution_count": 7,
   "metadata": {},
   "outputs": [
    {
     "name": "stdout",
     "output_type": "stream",
     "text": [
      "{'status': 'ok'}\n"
     ]
    }
   ],
   "source": [
    "##добавим похожую новость в историю юзера, чтобы проверить будет ли в рекомендациях наша новость\n",
    "js = requests.post(\n",
    "    f\"http://localhost:5757/append_history\",\n",
    "    params={\"user_id\": 1, \"news_id\": 66031073},\n",
    ")\n",
    "print(json.loads(js.content))"
   ]
  },
  {
   "cell_type": "code",
   "execution_count": 8,
   "metadata": {},
   "outputs": [
    {
     "name": "stdout",
     "output_type": "stream",
     "text": [
      "{'data': '2019-11-29 08:07:00', 'id': 66031073, 'title': '«Лидеры цифровой трансформации»: ИТ-разработчики поборются за премии Мэра Москвы'}\n",
      "[{'data': '2021-08-17 11:02:00', 'id': 94636073, 'title': 'Судьба артефакта: как археологические находки попадают в музеи'}, {'data': '2021-08-17 07:03:00', 'id': 94605073, 'title': 'Корпус центра глазных болезней имени Гельмгольца реконструируют'}, {'data': '2021-08-17 07:02:01', 'id': 94701073, 'title': '92 процента городских объектов подготовили к отопительному сезону'}]\n"
     ]
    }
   ],
   "source": [
    "##тест получения рекомендаций\n",
    "js = requests.get(\n",
    "    f\"http://localhost:5757/get_news\",\n",
    "    params={\"user_id\": 1, \"n_news\": 10, \"filter\": 0},\n",
    ")\n",
    "preds_dict = json.loads(js.content)\n",
    "print(preds_dict['history'][-1])\n",
    "print(preds_dict['recommendations'][:3])\n",
    "\n",
    "##последняя новость в истории это та, что мы положили. В топ-3 рекомендации есть наша тестовая новость"
   ]
  },
  {
   "cell_type": "code",
   "execution_count": null,
   "metadata": {},
   "outputs": [],
   "source": []
  }
 ],
 "metadata": {
  "kernelspec": {
   "display_name": "Python [conda env:python3] *",
   "language": "python",
   "name": "conda-env-python3-py"
  },
  "language_info": {
   "codemirror_mode": {
    "name": "ipython",
    "version": 3
   },
   "file_extension": ".py",
   "mimetype": "text/x-python",
   "name": "python",
   "nbconvert_exporter": "python",
   "pygments_lexer": "ipython3",
   "version": "3.6.9"
  }
 },
 "nbformat": 4,
 "nbformat_minor": 4
}
