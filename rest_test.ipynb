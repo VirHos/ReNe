{
 "cells": [
  {
   "cell_type": "code",
   "execution_count": 16,
   "metadata": {},
   "outputs": [],
   "source": [
    "import requests\n",
    "import json\n",
    "\n",
    "\n",
    "##тест получения рекомендаций\n",
    "js = requests.get(\n",
    "    f\"http://localhost:5757/get_news\",\n",
    "    params={\"user_id\": '5', \"n_news\": 3, \"filter\": 0},\n",
    ")\n",
    "preds_dict = json.loads(js.content)"
   ]
  },
  {
   "cell_type": "code",
   "execution_count": 17,
   "metadata": {},
   "outputs": [
    {
     "name": "stdout",
     "output_type": "stream",
     "text": [
      "[{'data': '2021-01-29 07:01:01', 'id': 85817073, 'title': 'Современные программы и профессии будущего: почему школьники выбирают детские технопарки'}, {'data': '2021-08-27 22:10:03', 'id': 7608050, 'title': 'Сергей Собянин рассказал о развитии креативных индустрий в Москве'}, {'data': '2021-08-30 07:07:00', 'id': 95239073, 'title': 'Чат-боты и машинное зрение: идет прием заявок на технологический конкурс SaaS Factory'}]\n",
      "[{'data': '2021-04-02 07:00:00', 'id': 88775073, 'title': 'Для любителей бега и не только: на Russpass появились новые маршруты'}, {'data': '2021-04-07 13:50:00', 'id': 88995073, 'title': 'Прием заявок на конкурс «Страна открытий» продлили до 31 мая'}, {'data': '2020-03-27 07:00:00', 'id': 71684073, 'title': 'От оплаты «коммуналки» до контроля уборки: какие услуги ЖКХ москвичи могут получить удаленно'}]\n"
     ]
    }
   ],
   "source": [
    "print(preds_dict['history'][-3:])\n",
    "print(preds_dict['recommendations'])"
   ]
  },
  {
   "cell_type": "code",
   "execution_count": 10,
   "metadata": {},
   "outputs": [],
   "source": [
    "##сделаем тестовую новость с нужными полями\n",
    "test_news = {'id': 777777, 'url': '/news/item/777777/',\n",
    "             'title': '«Лидеры цифровой трансформации»: ИТ-разработчики сделали рекомендательную систему для mos.ru',\n",
    "             'date': '2021-11-07 08:07:00', \n",
    "             'tags': [{'title': 'премии'}, {'title': 'хакатон'}],\n",
    "             'spheres': [{'title': 'Экономика и предпринимательство'}, {'title': 'Наука и инновации'}, {'title': 'Технологии'}]}"
   ]
  },
  {
   "cell_type": "code",
   "execution_count": 11,
   "metadata": {},
   "outputs": [
    {
     "data": {
      "text/plain": [
       "{'status': 'ok'}"
      ]
     },
     "execution_count": 11,
     "metadata": {},
     "output_type": "execute_result"
    }
   ],
   "source": [
    "##добавим новость в индекс\n",
    "js = requests.post(\n",
    "    f\"http://localhost:5757/add_news\",\n",
    "    data={'news_dict': json.dumps(test_news)}\n",
    ")\n",
    "json.loads(js.content)"
   ]
  },
  {
   "cell_type": "code",
   "execution_count": 12,
   "metadata": {},
   "outputs": [
    {
     "name": "stdout",
     "output_type": "stream",
     "text": [
      "{'status': 'ok'}\n"
     ]
    }
   ],
   "source": [
    "##добавим похожую новость в историю юзера, чтобы проверить будет ли в рекомендациях наша новость\n",
    "js = requests.post(\n",
    "    f\"http://localhost:5757/append_history\",\n",
    "    params={\"user_id\": '1', \"news_id\": 66031073},\n",
    ")\n",
    "print(json.loads(js.content))"
   ]
  },
  {
   "cell_type": "code",
   "execution_count": 13,
   "metadata": {},
   "outputs": [
    {
     "name": "stdout",
     "output_type": "stream",
     "text": [
      "{'data': '2019-11-29 08:07:00', 'id': 66031073, 'title': '«Лидеры цифровой трансформации»: ИТ-разработчики поборются за премии Мэра Москвы'}\n",
      "[{'data': '2021-11-07 08:07:00', 'id': 777777, 'title': '«Лидеры цифровой трансформации»: ИТ-разработчики сделали рекомендательную систему для mos.ru'}, {'data': '2021-08-16 19:11:00', 'id': 7573050, 'title': 'Московские школьники получили три медали на Международной географической олимпиаде'}, {'data': '2021-08-03 18:09:00', 'id': 7542050, 'title': 'Московские школьники завоевали три золотые медали на Международной химической олимпиаде'}]\n"
     ]
    }
   ],
   "source": [
    "##тест получения рекомендаций\n",
    "js = requests.get(\n",
    "    f\"http://localhost:5757/get_news\",\n",
    "    params={\"user_id\": '1', \"n_news\": 10, \"filter\": 0},\n",
    ")\n",
    "preds_dict = json.loads(js.content)\n",
    "print(preds_dict['history'][-1])\n",
    "print(preds_dict['recommendations'][:3])\n",
    "\n",
    "##последняя новость в истории это та, что мы положили. В топ-3 рекомендации есть наша тестовая новость"
   ]
  },
  {
   "cell_type": "code",
   "execution_count": null,
   "metadata": {},
   "outputs": [],
   "source": []
  },
  {
   "cell_type": "code",
   "execution_count": null,
   "metadata": {},
   "outputs": [],
   "source": []
  }
 ],
 "metadata": {
  "kernelspec": {
   "display_name": "Python [conda env:python3] *",
   "language": "python",
   "name": "conda-env-python3-py"
  },
  "language_info": {
   "codemirror_mode": {
    "name": "ipython",
    "version": 3
   },
   "file_extension": ".py",
   "mimetype": "text/x-python",
   "name": "python",
   "nbconvert_exporter": "python",
   "pygments_lexer": "ipython3",
   "version": "3.6.9"
  }
 },
 "nbformat": 4,
 "nbformat_minor": 4
}
