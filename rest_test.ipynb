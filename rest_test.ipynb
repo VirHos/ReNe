{
 "cells": [
  {
   "cell_type": "code",
   "execution_count": 1,
   "metadata": {},
   "outputs": [],
   "source": [
    "import requests\n",
    "import json\n",
    "\n",
    "\n",
    "##тест получения рекомендаций\n",
    "js = requests.get(\n",
    "    f\"http://localhost:5757/get_news\",\n",
    "    params={\"user_id\": '1', \"n_news\": 5, \"filter\": 0},\n",
    ")\n",
    "\n",
    "preds_dict = json.loads(js.content)"
   ]
  },
  {
   "cell_type": "code",
   "execution_count": 2,
   "metadata": {},
   "outputs": [
    {
     "name": "stdout",
     "output_type": "stream",
     "text": [
      "[{'data': '2021-08-17 07:02:01', 'id': 94701073, 'title': '92 процента городских объектов подготовили к отопительному сезону'}, {'data': '2021-08-17 07:03:00', 'id': 94605073, 'title': 'Корпус центра глазных болезней имени Гельмгольца реконструируют'}, {'data': '2021-08-17 09:06:00', 'id': 7574050, 'title': 'Сергей Собянин рассказал о развитии электротранспорта в Москве'}]\n",
      "[{'data': '2021-08-13 16:36:00', 'id': 7569050, 'title': 'Московские спортсмены принесли России почти 40 процентов медалей на Олимпиаде в Токио'}, {'data': '2017-07-03 13:44:00', 'id': 26170073, 'title': 'Социальная карта москвича переходит на платежную систему «Мир»'}, {'data': '2020-06-06 12:00:00', 'id': 75173073, 'title': 'По буквам: «Юности честное зерцало» и еще шесть старинных азбук'}, {'data': '2021-03-30 15:19:00', 'id': 7243050, 'title': 'Москва сохранила и расширила программы соцподдержки, несмотря на пандемию'}, {'data': '2021-08-12 16:33:36', 'id': 94565073, 'title': 'Молодежный фестиваль «Разноцветная Москва» пройдет в столице в предпоследние выходные лета'}]\n"
     ]
    }
   ],
   "source": [
    "print(preds_dict['history'][-3:])\n",
    "print(preds_dict['recommendations'])"
   ]
  },
  {
   "cell_type": "code",
   "execution_count": 3,
   "metadata": {},
   "outputs": [],
   "source": [
    "##сделаем тестовую новость с нужными полями\n",
    "test_news = {'id': 777777, 'url': '/news/item/777777/',\n",
    "             'title': '«Лидеры цифровой трансформации»: ИТ-разработчики сделали рекомендательную систему для mos.ru',\n",
    "             'date': '2021-11-07 08:07:00', \n",
    "             'tags': [{'title': 'премии'}, {'title': 'хакатон'}],\n",
    "             'spheres': [{'title': 'Экономика и предпринимательство'}, {'title': 'Наука и инновации'}, {'title': 'Технологии'}]}"
   ]
  },
  {
   "cell_type": "code",
   "execution_count": 4,
   "metadata": {},
   "outputs": [
    {
     "data": {
      "text/plain": [
       "{'status': 'ok'}"
      ]
     },
     "execution_count": 4,
     "metadata": {},
     "output_type": "execute_result"
    }
   ],
   "source": [
    "##добавим новость в индекс\n",
    "js = requests.post(\n",
    "    f\"http://localhost:5757/add_news\",\n",
    "    data={'news_dict': json.dumps(test_news)}\n",
    ")\n",
    "json.loads(js.content)"
   ]
  },
  {
   "cell_type": "code",
   "execution_count": 5,
   "metadata": {},
   "outputs": [
    {
     "name": "stdout",
     "output_type": "stream",
     "text": [
      "{'status': 'ok'}\n"
     ]
    }
   ],
   "source": [
    "##добавим похожую новость в историю юзера, чтобы проверить будет ли в рекомендациях наша новость\n",
    "js = requests.post(\n",
    "    f\"http://localhost:5757/append_history\",\n",
    "    params={\"user_id\": '1', \"news_id\": 66031073},\n",
    ")\n",
    "print(json.loads(js.content))"
   ]
  },
  {
   "cell_type": "code",
   "execution_count": 6,
   "metadata": {},
   "outputs": [
    {
     "name": "stdout",
     "output_type": "stream",
     "text": [
      "{'data': '2019-11-29 08:07:00', 'id': 66031073, 'title': '«Лидеры цифровой трансформации»: ИТ-разработчики поборются за премии Мэра Москвы'}\n",
      "[{'data': '2021-11-07 08:07:00', 'id': 777777, 'title': '«Лидеры цифровой трансформации»: ИТ-разработчики сделали рекомендательную систему для mos.ru'}, {'data': '2021-08-13 16:36:00', 'id': 7569050, 'title': 'Московские спортсмены принесли России почти 40 процентов медалей на Олимпиаде в Токио'}, {'data': '2017-07-03 13:44:00', 'id': 26170073, 'title': 'Социальная карта москвича переходит на платежную систему «Мир»'}]\n"
     ]
    }
   ],
   "source": [
    "##тест получения рекомендаций\n",
    "js = requests.get(\n",
    "    f\"http://localhost:5757/get_news\",\n",
    "    params={\"user_id\": '1', \"n_news\": 10, \"filter\": 0},\n",
    ")\n",
    "preds_dict = json.loads(js.content)\n",
    "print(preds_dict['history'][-1])\n",
    "print(preds_dict['recommendations'][:3])\n",
    "\n",
    "##последняя новость в истории это та, что мы положили. В топ-3 рекомендации есть наша тестовая новость"
   ]
  }
 ],
 "metadata": {
  "kernelspec": {
   "display_name": "Python [conda env:python3] *",
   "language": "python",
   "name": "conda-env-python3-py"
  },
  "language_info": {
   "codemirror_mode": {
    "name": "ipython",
    "version": 3
   },
   "file_extension": ".py",
   "mimetype": "text/x-python",
   "name": "python",
   "nbconvert_exporter": "python",
   "pygments_lexer": "ipython3",
   "version": "3.6.9"
  }
 },
 "nbformat": 4,
 "nbformat_minor": 4
}
