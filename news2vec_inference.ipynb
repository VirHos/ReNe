{
 "cells": [
  {
   "cell_type": "code",
   "execution_count": 1,
   "metadata": {},
   "outputs": [
    {
     "name": "stdout",
     "output_type": "stream",
     "text": [
      "Populating the interactive namespace from numpy and matplotlib\n"
     ]
    }
   ],
   "source": [
    "import pandas as pd\n",
    "import numpy as np\n",
    "import gc\n",
    "%pylab inline"
   ]
  },
  {
   "cell_type": "markdown",
   "metadata": {},
   "source": [
    "### LOAD DFs"
   ]
  },
  {
   "cell_type": "code",
   "execution_count": 2,
   "metadata": {},
   "outputs": [],
   "source": [
    "def apk(actual, predicted, k=10):\n",
    "    \"\"\"\n",
    "    Computes the average precision at k.\n",
    "    This function computes the average prescision at k between two lists of\n",
    "    items.\n",
    "    Parameters\n",
    "    ----------\n",
    "    actual : list\n",
    "             A list of elements that are to be predicted (order doesn't matter)\n",
    "    predicted : list\n",
    "                A list of predicted elements (order does matter)\n",
    "    k : int, optional\n",
    "        The maximum number of predicted elements\n",
    "    Returns\n",
    "    -------\n",
    "    score : double\n",
    "            The average precision at k over the input lists\n",
    "    \"\"\"\n",
    "    if len(predicted)>k:\n",
    "        predicted = predicted[:k]\n",
    "\n",
    "    score = 0.0\n",
    "    num_hits = 0.0\n",
    "\n",
    "    for i,p in enumerate(predicted):\n",
    "        if( p in actual) and (p not in predicted[:i]):\n",
    "            #print(p)\n",
    "            num_hits += 1.0\n",
    "            score += num_hits / (i+1.0)\n",
    "\n",
    "    if not actual:\n",
    "        return 0.0\n",
    "\n",
    "    return score / min(len(actual), k)\n",
    "\n",
    "def mapk(actual, predicted, k=10):\n",
    "    \"\"\"\n",
    "    Computes the mean average precision at k.\n",
    "    This function computes the mean average prescision at k between two lists\n",
    "    of lists of items.\n",
    "    Parameters\n",
    "    ----------\n",
    "    actual : list\n",
    "             A list of lists of elements that are to be predicted \n",
    "             (order doesn't matter in the lists)\n",
    "    predicted : list\n",
    "                A list of lists of predicted elements\n",
    "                (order matters in the lists)\n",
    "    k : int, optional\n",
    "        The maximum number of predicted elements\n",
    "    Returns\n",
    "    -------\n",
    "    score : double\n",
    "            The mean average precision at k over the input lists\n",
    "    \"\"\"\n",
    "    return np.mean([apk(a,p,k) for a,p in zip(actual, predicted)])"
   ]
  },
  {
   "cell_type": "markdown",
   "metadata": {},
   "source": [
    "#### Что нужно?\n",
    "\n",
    "    Для работы нужны два файла с новостями под историю 5  news_for_history5.csv и нарезка юзер-стори под историю 5 narezka_last5_history_users.csv"
   ]
  },
  {
   "cell_type": "code",
   "execution_count": 3,
   "metadata": {},
   "outputs": [],
   "source": [
    "#тут лежат все новости в нужном формате\n",
    "df_news = pd.read_csv('news_for_history5.csv', sep='^')\n",
    "#тут лежат только просмотры каждым юзером + предыстория в 5 последних тегов - поэтому сделан шифт = 5 \n",
    "user5story = pd.read_csv('narezka_last5_history_users.csv', sep='^') "
   ]
  },
  {
   "cell_type": "code",
   "execution_count": 4,
   "metadata": {},
   "outputs": [
    {
     "data": {
      "text/html": [
       "<div>\n",
       "<style scoped>\n",
       "    .dataframe tbody tr th:only-of-type {\n",
       "        vertical-align: middle;\n",
       "    }\n",
       "\n",
       "    .dataframe tbody tr th {\n",
       "        vertical-align: top;\n",
       "    }\n",
       "\n",
       "    .dataframe thead th {\n",
       "        text-align: right;\n",
       "    }\n",
       "</style>\n",
       "<table border=\"1\" class=\"dataframe\">\n",
       "  <thead>\n",
       "    <tr style=\"text-align: right;\">\n",
       "      <th></th>\n",
       "      <th>text_prev</th>\n",
       "      <th>id</th>\n",
       "      <th>text_title</th>\n",
       "      <th>news_tags</th>\n",
       "      <th>spheeres</th>\n",
       "      <th>images_cnt</th>\n",
       "      <th>news_url</th>\n",
       "      <th>news_date</th>\n",
       "      <th>full_text</th>\n",
       "      <th>full_tags</th>\n",
       "    </tr>\n",
       "  </thead>\n",
       "  <tbody>\n",
       "    <tr>\n",
       "      <th>0</th>\n",
       "      <td>Электронное голосование доступно для граждан Р...</td>\n",
       "      <td>75178073</td>\n",
       "      <td>Открыта запись на электронное голосование по и...</td>\n",
       "      <td>просмотренные теги:конституция, поправки, элек...</td>\n",
       "      <td>просмотренные сферы:социальная сфера</td>\n",
       "      <td>18</td>\n",
       "      <td>mos.ru/news/item/75178073/</td>\n",
       "      <td>2020-06-04 22:14:43</td>\n",
       "      <td>открыта запись на электронное голосование по и...</td>\n",
       "      <td>просмотренные теги:конституция, поправки, элек...</td>\n",
       "    </tr>\n",
       "    <tr>\n",
       "      <th>1</th>\n",
       "      <td>Они будут следовать от станции метро «Молодежн...</td>\n",
       "      <td>80375073</td>\n",
       "      <td>Для пассажиров закрытого участка Арбатско-Покр...</td>\n",
       "      <td>просмотренные теги:метро, ограничения, компенс...</td>\n",
       "      <td>просмотренные сферы:транспорт, мой район, комф...</td>\n",
       "      <td>18</td>\n",
       "      <td>mos.ru/news/item/80375073/</td>\n",
       "      <td>2020-09-25 16:49:20</td>\n",
       "      <td>для пассажиров закрытого участка арбатско-покр...</td>\n",
       "      <td>просмотренные теги:метро, ограничения, компенс...</td>\n",
       "    </tr>\n",
       "    <tr>\n",
       "      <th>2</th>\n",
       "      <td>Арина Аверина победила с результатом 79,250 ба...</td>\n",
       "      <td>41116073</td>\n",
       "      <td>Москвичка Арина Аверина выиграла чемпионат Евр...</td>\n",
       "      <td>просмотренные теги:соревнования, художественна...</td>\n",
       "      <td>просмотренные сферы:спорт</td>\n",
       "      <td>18</td>\n",
       "      <td>mos.ru/news/item/41116073/</td>\n",
       "      <td>2018-06-04 09:51:15</td>\n",
       "      <td>москвичка арина аверина выиграла чемпионат евр...</td>\n",
       "      <td>просмотренные теги:соревнования, художественна...</td>\n",
       "    </tr>\n",
       "    <tr>\n",
       "      <th>3</th>\n",
       "      <td>Новое здание появится на Волгоградском проспекте.</td>\n",
       "      <td>94978073</td>\n",
       "      <td>Многофункциональный комплекс со спортивными и ...</td>\n",
       "      <td>просмотренные теги:сергей лёвкин, многофункцио...</td>\n",
       "      <td>просмотренные сферы:строительство и реконструкция</td>\n",
       "      <td>18</td>\n",
       "      <td>mos.ru/news/item/94978073/</td>\n",
       "      <td>2021-08-23 09:07:27</td>\n",
       "      <td>многофункциональный комплекс со спортивными и ...</td>\n",
       "      <td>просмотренные теги:сергей лёвкин, многофункцио...</td>\n",
       "    </tr>\n",
       "    <tr>\n",
       "      <th>4</th>\n",
       "      <td>Фаина Рублева — о новейших технологиях, подаре...</td>\n",
       "      <td>64742073</td>\n",
       "      <td>«По масштабам Вселенной 90 лет — это миг». Инт...</td>\n",
       "      <td>просмотренные теги:интервью, юбилеи, истории, ...</td>\n",
       "      <td>просмотренные сферы:культура, музейные истории...</td>\n",
       "      <td>18</td>\n",
       "      <td>mos.ru/news/item/64742073/</td>\n",
       "      <td>2019-11-01 21:28:46</td>\n",
       "      <td>«по масштабам вселенной 90 лет — это миг». инт...</td>\n",
       "      <td>просмотренные теги:интервью, юбилеи, истории, ...</td>\n",
       "    </tr>\n",
       "  </tbody>\n",
       "</table>\n",
       "</div>"
      ],
      "text/plain": [
       "                                           text_prev        id  \\\n",
       "0  Электронное голосование доступно для граждан Р...  75178073   \n",
       "1  Они будут следовать от станции метро «Молодежн...  80375073   \n",
       "2  Арина Аверина победила с результатом 79,250 ба...  41116073   \n",
       "3  Новое здание появится на Волгоградском проспекте.  94978073   \n",
       "4  Фаина Рублева — о новейших технологиях, подаре...  64742073   \n",
       "\n",
       "                                          text_title  \\\n",
       "0  Открыта запись на электронное голосование по и...   \n",
       "1  Для пассажиров закрытого участка Арбатско-Покр...   \n",
       "2  Москвичка Арина Аверина выиграла чемпионат Евр...   \n",
       "3  Многофункциональный комплекс со спортивными и ...   \n",
       "4  «По масштабам Вселенной 90 лет — это миг». Инт...   \n",
       "\n",
       "                                           news_tags  \\\n",
       "0  просмотренные теги:конституция, поправки, элек...   \n",
       "1  просмотренные теги:метро, ограничения, компенс...   \n",
       "2  просмотренные теги:соревнования, художественна...   \n",
       "3  просмотренные теги:сергей лёвкин, многофункцио...   \n",
       "4  просмотренные теги:интервью, юбилеи, истории, ...   \n",
       "\n",
       "                                            spheeres  images_cnt  \\\n",
       "0               просмотренные сферы:социальная сфера          18   \n",
       "1  просмотренные сферы:транспорт, мой район, комф...          18   \n",
       "2                          просмотренные сферы:спорт          18   \n",
       "3  просмотренные сферы:строительство и реконструкция          18   \n",
       "4  просмотренные сферы:культура, музейные истории...          18   \n",
       "\n",
       "                     news_url            news_date  \\\n",
       "0  mos.ru/news/item/75178073/  2020-06-04 22:14:43   \n",
       "1  mos.ru/news/item/80375073/  2020-09-25 16:49:20   \n",
       "2  mos.ru/news/item/41116073/  2018-06-04 09:51:15   \n",
       "3  mos.ru/news/item/94978073/  2021-08-23 09:07:27   \n",
       "4  mos.ru/news/item/64742073/  2019-11-01 21:28:46   \n",
       "\n",
       "                                           full_text  \\\n",
       "0  открыта запись на электронное голосование по и...   \n",
       "1  для пассажиров закрытого участка арбатско-покр...   \n",
       "2  москвичка арина аверина выиграла чемпионат евр...   \n",
       "3  многофункциональный комплекс со спортивными и ...   \n",
       "4  «по масштабам вселенной 90 лет — это миг». инт...   \n",
       "\n",
       "                                           full_tags  \n",
       "0  просмотренные теги:конституция, поправки, элек...  \n",
       "1  просмотренные теги:метро, ограничения, компенс...  \n",
       "2  просмотренные теги:соревнования, художественна...  \n",
       "3  просмотренные теги:сергей лёвкин, многофункцио...  \n",
       "4  просмотренные теги:интервью, юбилеи, истории, ...  "
      ]
     },
     "execution_count": 4,
     "metadata": {},
     "output_type": "execute_result"
    }
   ],
   "source": [
    "df_news.head()"
   ]
  },
  {
   "cell_type": "code",
   "execution_count": null,
   "metadata": {},
   "outputs": [],
   "source": []
  },
  {
   "cell_type": "code",
   "execution_count": 6,
   "metadata": {},
   "outputs": [
    {
     "data": {
      "text/html": [
       "<div>\n",
       "<style scoped>\n",
       "    .dataframe tbody tr th:only-of-type {\n",
       "        vertical-align: middle;\n",
       "    }\n",
       "\n",
       "    .dataframe tbody tr th {\n",
       "        vertical-align: top;\n",
       "    }\n",
       "\n",
       "    .dataframe thead th {\n",
       "        text-align: right;\n",
       "    }\n",
       "</style>\n",
       "<table border=\"1\" class=\"dataframe\">\n",
       "  <thead>\n",
       "    <tr style=\"text-align: right;\">\n",
       "      <th></th>\n",
       "      <th>text_query</th>\n",
       "      <th>text_trgt</th>\n",
       "      <th>text_env</th>\n",
       "      <th>text_trgt_env</th>\n",
       "      <th>rank</th>\n",
       "      <th>uid</th>\n",
       "      <th>id</th>\n",
       "      <th>id_history</th>\n",
       "      <th>date_time</th>\n",
       "      <th>news_date</th>\n",
       "    </tr>\n",
       "  </thead>\n",
       "  <tbody>\n",
       "    <tr>\n",
       "      <th>0</th>\n",
       "      <td>дома-порталы: где в москве можно почувствовать...</td>\n",
       "      <td>московские школьники завоевали четыре медали н...</td>\n",
       "      <td>просмотренные теги:архитектура, особняки, дохо...</td>\n",
       "      <td>просмотренные теги:экономика, награды, школьни...</td>\n",
       "      <td>1</td>\n",
       "      <td>1</td>\n",
       "      <td>94098073.0</td>\n",
       "      <td>94006073.0|94000073.0|94062073.0|94063073.0|93...</td>\n",
       "      <td>2021-08-04 09:15:14</td>\n",
       "      <td>2021-08-02 12:21:23</td>\n",
       "    </tr>\n",
       "    <tr>\n",
       "      <th>1</th>\n",
       "      <td>чтобы дома было комфортно: какие вопросы помог...</td>\n",
       "      <td>две новостройки для переселения по программе р...</td>\n",
       "      <td>просмотренные теги:перепланировка, жку, дома, ...</td>\n",
       "      <td>просмотренные теги:реновация, программа ренова...</td>\n",
       "      <td>1</td>\n",
       "      <td>1</td>\n",
       "      <td>94106073.0</td>\n",
       "      <td>94000073.0|94062073.0|94063073.0|93893073.0|94...</td>\n",
       "      <td>2021-08-04 09:15:38</td>\n",
       "      <td>2021-08-02 15:45:42</td>\n",
       "    </tr>\n",
       "    <tr>\n",
       "      <th>2</th>\n",
       "      <td>полярные совы в московском зоопарке обзавелись...</td>\n",
       "      <td>чат-бот поможет врачам больше узнать о здоровь...</td>\n",
       "      <td>просмотренные теги:культура, птицы, московский...</td>\n",
       "      <td>просмотренные теги:здравоохранение, технологии...</td>\n",
       "      <td>1</td>\n",
       "      <td>1</td>\n",
       "      <td>94108073.0</td>\n",
       "      <td>94062073.0|94063073.0|93893073.0|94098073.0|94...</td>\n",
       "      <td>2021-08-04 16:55:38</td>\n",
       "      <td>2021-08-02 16:13:31</td>\n",
       "    </tr>\n",
       "    <tr>\n",
       "      <th>3</th>\n",
       "      <td>в москве начали производить лифты с системой б...</td>\n",
       "      <td>морские звезды и танцы нерп: как отметят шести...</td>\n",
       "      <td>просмотренные теги:технологии, лифты, владимир...</td>\n",
       "      <td>просмотренные теги:вднх, празднования, москвар...</td>\n",
       "      <td>1</td>\n",
       "      <td>1</td>\n",
       "      <td>94132073.0</td>\n",
       "      <td>94063073.0|93893073.0|94098073.0|94106073.0|94...</td>\n",
       "      <td>2021-08-04 16:55:45</td>\n",
       "      <td>2021-08-02 20:45:00</td>\n",
       "    </tr>\n",
       "    <tr>\n",
       "      <th>4</th>\n",
       "      <td>любовь и звери: как разводят редких животных в...</td>\n",
       "      <td>карты, лыжи, два весла: как туризм в ссср стал...</td>\n",
       "      <td>просмотренные теги:зоопарк, леопарды, амурские...</td>\n",
       "      <td>просмотренные теги:туризм, документы, туристы,...</td>\n",
       "      <td>1</td>\n",
       "      <td>1</td>\n",
       "      <td>94057073.0</td>\n",
       "      <td>93893073.0|94098073.0|94106073.0|94108073.0|94...</td>\n",
       "      <td>2021-08-04 16:56:02</td>\n",
       "      <td>2021-07-30 17:45:09</td>\n",
       "    </tr>\n",
       "  </tbody>\n",
       "</table>\n",
       "</div>"
      ],
      "text/plain": [
       "                                          text_query  \\\n",
       "0  дома-порталы: где в москве можно почувствовать...   \n",
       "1  чтобы дома было комфортно: какие вопросы помог...   \n",
       "2  полярные совы в московском зоопарке обзавелись...   \n",
       "3  в москве начали производить лифты с системой б...   \n",
       "4  любовь и звери: как разводят редких животных в...   \n",
       "\n",
       "                                           text_trgt  \\\n",
       "0  московские школьники завоевали четыре медали н...   \n",
       "1  две новостройки для переселения по программе р...   \n",
       "2  чат-бот поможет врачам больше узнать о здоровь...   \n",
       "3  морские звезды и танцы нерп: как отметят шести...   \n",
       "4  карты, лыжи, два весла: как туризм в ссср стал...   \n",
       "\n",
       "                                            text_env  \\\n",
       "0  просмотренные теги:архитектура, особняки, дохо...   \n",
       "1  просмотренные теги:перепланировка, жку, дома, ...   \n",
       "2  просмотренные теги:культура, птицы, московский...   \n",
       "3  просмотренные теги:технологии, лифты, владимир...   \n",
       "4  просмотренные теги:зоопарк, леопарды, амурские...   \n",
       "\n",
       "                                       text_trgt_env  rank  uid          id  \\\n",
       "0  просмотренные теги:экономика, награды, школьни...     1    1  94098073.0   \n",
       "1  просмотренные теги:реновация, программа ренова...     1    1  94106073.0   \n",
       "2  просмотренные теги:здравоохранение, технологии...     1    1  94108073.0   \n",
       "3  просмотренные теги:вднх, празднования, москвар...     1    1  94132073.0   \n",
       "4  просмотренные теги:туризм, документы, туристы,...     1    1  94057073.0   \n",
       "\n",
       "                                          id_history            date_time  \\\n",
       "0  94006073.0|94000073.0|94062073.0|94063073.0|93...  2021-08-04 09:15:14   \n",
       "1  94000073.0|94062073.0|94063073.0|93893073.0|94...  2021-08-04 09:15:38   \n",
       "2  94062073.0|94063073.0|93893073.0|94098073.0|94...  2021-08-04 16:55:38   \n",
       "3  94063073.0|93893073.0|94098073.0|94106073.0|94...  2021-08-04 16:55:45   \n",
       "4  93893073.0|94098073.0|94106073.0|94108073.0|94...  2021-08-04 16:56:02   \n",
       "\n",
       "             news_date  \n",
       "0  2021-08-02 12:21:23  \n",
       "1  2021-08-02 15:45:42  \n",
       "2  2021-08-02 16:13:31  \n",
       "3  2021-08-02 20:45:00  \n",
       "4  2021-07-30 17:45:09  "
      ]
     },
     "execution_count": 6,
     "metadata": {},
     "output_type": "execute_result"
    }
   ],
   "source": [
    "# ВАЖНО: каждый юзер внутри своего uid отсортирован по дате от прошлого к будущему\n",
    "user5story[user5story['uid']==1].head()"
   ]
  },
  {
   "cell_type": "markdown",
   "metadata": {},
   "source": [
    "в обоих файла текстовые поля формировались так как ниже - к тегам добавляли префикс 'просмотренные теги:' к сферам 'просмотренные сферы:'\n",
    "далее это описание складывалось с разделителем точка\n",
    "\n",
    "    df_news['full_text']=df_news['text_title'].str.lower()#+', '+df_news['text_prev'].str.lower()\n",
    "    df_news['news_tags']=df_news['news_tags'].map(lambda x: 'просмотренные теги:'+', '.join(x).lower())\n",
    "    df_news['spheeres']=df_news['spheeres'].map(lambda x: 'просмотренные сферы:'+', '.join(x).lower())\n",
    "    df_news['full_tags']=df_news['news_tags']+'. '+df_news['spheeres']\n",
    "\n"
   ]
  },
  {
   "cell_type": "code",
   "execution_count": 7,
   "metadata": {},
   "outputs": [],
   "source": [
    "#далее получим теги для новостей кандидатов которые положим в FAISS"
   ]
  },
  {
   "cell_type": "code",
   "execution_count": 8,
   "metadata": {},
   "outputs": [],
   "source": [
    "cands_tags = df_news['full_tags']\n",
    "tags_news_ids = df_news['id'].values"
   ]
  },
  {
   "cell_type": "code",
   "execution_count": 9,
   "metadata": {},
   "outputs": [],
   "source": [
    "#далее покажем как извлекать юзер стори по тегам"
   ]
  },
  {
   "cell_type": "code",
   "execution_count": 10,
   "metadata": {},
   "outputs": [],
   "source": [
    "#тк в предыстории у нас трейн сет: последние 5 собыйти + 1 на предсказание, \n",
    "#то для инференса надо сложить их и взять 5 последних включая \"предсказание\"\n",
    "#тк на момент теста это уже произошло\n",
    "\n",
    "user5story['text_env'] = user5story['text_env'].map(lambda x: '|'.join( x.split('|')[1:] ) )+'|'+user5story['text_trgt_env']\n",
    "user5story['text_query'] = user5story['text_query'].map(lambda x: '|'.join( x.split('|')[1:] ) )+'|'+user5story['text_trgt']"
   ]
  },
  {
   "cell_type": "code",
   "execution_count": 11,
   "metadata": {},
   "outputs": [],
   "source": [
    "user_5_tags = user5story['text_env'].str.split('|').values\n",
    "user_5_ids = user5story['uid'].values"
   ]
  },
  {
   "cell_type": "code",
   "execution_count": 12,
   "metadata": {},
   "outputs": [
    {
     "data": {
      "text/plain": [
       "(['просмотренные теги:перепланировка, жку, дома, лицензии, мосжилинспекция, олег кичиков. просмотренные сферы:городское хозяйство',\n",
       "  'просмотренные теги:культура, птицы, московский зоопарк, белые совы. просмотренные сферы:культура, мой район, животные, комфорт: досуговая инфраструктура',\n",
       "  'просмотренные теги:технологии, лифты, владимир ефимов, щербинский лифтостроительный завод, александр прохоров, умные лифты. просмотренные сферы:технологии',\n",
       "  'просмотренные теги:зоопарк, леопарды, амурские тигры, рептилии, центр воспроизводства редких видов животных, дрофа. просмотренные сферы:животные',\n",
       "  'просмотренные теги:экономика, награды, школьники, олимпиады. просмотренные сферы:образование'],\n",
       " 1,\n",
       " '2021-08-04 09:15:14')"
      ]
     },
     "execution_count": 12,
     "metadata": {},
     "output_type": "execute_result"
    }
   ],
   "source": [
    "#как видите тут лежат 5 последних просмотров на определенную дату для юзера 1\n",
    "user_5_tags[0], user_5_ids[0], user5story['date_time'][0]"
   ]
  },
  {
   "cell_type": "code",
   "execution_count": 13,
   "metadata": {},
   "outputs": [],
   "source": [
    "#тк нам нужно сделать предсказание для всех юзеров относительно их последних 5 действий в базе \n",
    "#делаем так\n",
    "last_story_uid = {uid: user5story['text_env'][user5story.uid==uid][-1:].str.split('|').values for uid in user5story['uid'].unique()}"
   ]
  },
  {
   "cell_type": "code",
   "execution_count": 14,
   "metadata": {},
   "outputs": [
    {
     "data": {
      "text/plain": [
       "'просмотренные теги:детские сады, москомархитектура, юлиана княжевская. просмотренные сферы:строительство и реконструкция, образование|просмотренные теги:реконструкция, строительство, школы, зил, жилая недвижимость, тюфелева роща. просмотренные сферы:образование, комфорт, планы|просмотренные теги:благоустройство, здравоохранение, поликлиники, сергей собянин, бибирево, мой район. просмотренные сферы:здравоохранение, мой район, комфорт, мой район: избранное, город: детали|просмотренные теги:благоустройство, сергей собянин, парк горького, пешеходные маршруты. просмотренные сферы:парки и пешеходные зоны|просмотренные теги:парк горького, нескучный сад, история москвы, зелёный театр, девушка с веслом. просмотренные сферы:культура, музейные истории, уникальность, уникальность: знаковые культурно-исторические объекты'"
      ]
     },
     "execution_count": 14,
     "metadata": {},
     "output_type": "execute_result"
    }
   ],
   "source": [
    "#проверим так ли это\n",
    "user5story['text_env'][user5story.uid==10].values[-1]"
   ]
  },
  {
   "cell_type": "code",
   "execution_count": 15,
   "metadata": {},
   "outputs": [
    {
     "data": {
      "text/plain": [
       "array([list(['просмотренные теги:детские сады, москомархитектура, юлиана княжевская. просмотренные сферы:строительство и реконструкция, образование', 'просмотренные теги:реконструкция, строительство, школы, зил, жилая недвижимость, тюфелева роща. просмотренные сферы:образование, комфорт, планы', 'просмотренные теги:благоустройство, здравоохранение, поликлиники, сергей собянин, бибирево, мой район. просмотренные сферы:здравоохранение, мой район, комфорт, мой район: избранное, город: детали', 'просмотренные теги:благоустройство, сергей собянин, парк горького, пешеходные маршруты. просмотренные сферы:парки и пешеходные зоны', 'просмотренные теги:парк горького, нескучный сад, история москвы, зелёный театр, девушка с веслом. просмотренные сферы:культура, музейные истории, уникальность, уникальность: знаковые культурно-исторические объекты'])],\n",
       "      dtype=object)"
      ]
     },
     "execution_count": 15,
     "metadata": {},
     "output_type": "execute_result"
    }
   ],
   "source": [
    "last_story_uid[10]"
   ]
  },
  {
   "cell_type": "markdown",
   "metadata": {},
   "source": [
    "### LOAD FREEZE_GRAPH FOR INF\n",
    "\n",
    "Когда последние данные получены можно перейти к примеру загрузки и использования модели"
   ]
  },
  {
   "cell_type": "code",
   "execution_count": 16,
   "metadata": {},
   "outputs": [],
   "source": [
    "import logging\n",
    "import numpy as np\n",
    "import tensorflow as tf\n",
    "\n",
    "from tensorflow.python.estimator.estimator import Estimator\n",
    "from tensorflow.python.estimator.run_config import RunConfig\n",
    "from tensorflow.python.estimator.model_fn import EstimatorSpec\n",
    "from tensorflow.keras.utils import Progbar\n",
    "from text_preprocessing import FullTokenizer\n",
    "\n",
    "from tensorflow.python.client import device_lib\n",
    "\n",
    "def build_proto_config(cpu_cores=4, allow_growth=True, use_gpu=True):\n",
    "    config = tf.ConfigProto(device_count={'GPU': 1 if use_gpu else 0})\n",
    "    config.gpu_options.allow_growth = allow_growth\n",
    "    return config\n",
    "\n",
    "\n",
    "def get_configurable_session_and_graph(config=None):\n",
    "    if config is None:\n",
    "        config = build_proto_config()\n",
    "\n",
    "    graph = tf.Graph()\n",
    "    sess = tf.Session(config=config, graph=graph)\n",
    "\n",
    "    return {\n",
    "        \"session\": sess,\n",
    "        \"graph\": graph\n",
    "    }\n",
    "\n",
    "def batch(iterable, n=1):\n",
    "    l = len(iterable)\n",
    "    for ndx in range(0, l, n):\n",
    "        yield iterable[ndx:min(ndx + n, l)]\n",
    "        \n",
    "        \n",
    "def _get_masks(tokens, max_seq_length):\n",
    "    if len(tokens)>max_seq_length:\n",
    "        raise IndexError(\"Token lengath more than max seq length!\")\n",
    "    return [1]*len(tokens)+[0]*(max_seq_length-len(tokens))\n",
    "\n",
    "def _get_segments(tokens, max_seq_length):\n",
    "    if len(tokens)>max_seq_length:\n",
    "        raise IndexError(\"Token length more than max seq length!\")\n",
    "    return [0]*len(tokens)+[0]*(max_seq_length-len(tokens))\n",
    "\n",
    "def _trim_input(text, max_seq_length):\n",
    "\n",
    "    t = tokenizer.tokenize(text)\n",
    "        \n",
    "    if len(t) > max_seq_length - 2:\n",
    "        t = t[0 : (max_seq_length - 2)]\n",
    "        \n",
    "    return t\n",
    "\n",
    "def _get_ids(tokens, tokenizer, max_seq_length):\n",
    "    token_ids = tokenizer.convert_tokens_to_ids(tokens)\n",
    "    input_ids = token_ids + [0]*(max_seq_length - len(token_ids))\n",
    "    return input_ids\n",
    "\n",
    "def _convert_to_bert_inputs(text, tokenizer, max_seq_length):\n",
    "    #stacked token\n",
    "    stoken = ['[CLS]'] + text + ['[SEP]'] \n",
    "    input_ids = _get_ids(tokens=stoken, tokenizer=tokenizer,max_seq_length=max_seq_length)\n",
    "    input_masks = _get_masks(tokens=stoken, max_seq_length=max_seq_length)\n",
    "    input_segments = _get_segments(tokens=stoken, max_seq_length=max_seq_length)\n",
    "    \n",
    "    return [input_ids, input_masks, input_segments]\n",
    "\n",
    "def compute_input_array(texts, tokenizer, max_seq_length):\n",
    "    input_ids, input_masks, input_segments = [], [], []\n",
    "    for text in texts:\n",
    "        t = text\n",
    "        t  = _trim_input(t, max_seq_length)\n",
    "        ids, masks, segments = _convert_to_bert_inputs(t, tokenizer, max_seq_length)\n",
    "        input_ids.append(ids)\n",
    "        input_masks.append(masks)\n",
    "        input_segments.append(segments)\n",
    "        \n",
    "    return [np.array(input_ids, dtype=np.int32), np.array(input_masks, dtype=np.int32), \n",
    "            np.array(input_segments, dtype=np.int32)]\n",
    "\n",
    "class SBERT():\n",
    "    def __init__(self, model_path, tokenizer, seq_len=24):\n",
    "        self.max_seq_length=seq_len\n",
    "        self.tokenizer = tokenizer\n",
    "        self.restored_graph=self._load_graph(model_path)\n",
    "        self.sess = tf.Session(graph=self.restored_graph)\n",
    "        #первый запуск всегда долгий поэтому в конструкторе\n",
    "        self.x_id, self.x_mask, self.x_seg, self.y1 = self.restore_model(self.restored_graph)\n",
    "        _ = self.predict([[0]*self.max_seq_length], [[0]*self.max_seq_length], [[0]*self.max_seq_length])\n",
    "        \n",
    "        \n",
    "    def _load_graph(self, frozen_graph_filename):\n",
    "        with tf.gfile.GFile(frozen_graph_filename, \"rb\") as f:\n",
    "            graph_def = tf.GraphDef()\n",
    "            graph_def.ParseFromString(f.read())\n",
    "\n",
    "        with tf.Graph().as_default() as graph:\n",
    "            tf.import_graph_def(graph_def)\n",
    "        return graph\n",
    "\n",
    "    def restore_model(self, restored_graph):\n",
    "\n",
    "        graph_ops = restored_graph.get_operations()\n",
    "        input_op, output_op = [graph_ops[0].name, graph_ops[1].name, graph_ops[2].name], [graph_ops[-1].name]\n",
    "        \n",
    "        print(input_op, output_op)\n",
    "        \n",
    "        [x_id, x_mask, x_seg] = [restored_graph.get_tensor_by_name(input_op[i] + ':0') for i,k in enumerate(input_op)]\n",
    "        y1 = restored_graph.get_tensor_by_name(output_op[0] + ':0')\n",
    "        return x_id, x_mask, x_seg, y1\n",
    "    \n",
    "    def predict(self, in_ids, in_masks, in_segs):\n",
    "        return self.sess.run( self.y1, \n",
    "                             feed_dict={self.x_id: in_ids, self.x_mask: in_masks, self.x_seg: in_segs})\n",
    "    \n",
    "\n",
    "    def get_embs(self, texts):\n",
    "        \n",
    "        if type(texts)!=list:\n",
    "            texts=[texts]\n",
    "            \n",
    "        in_ids, in_masks, in_segs = compute_input_array(texts, self.tokenizer, self.max_seq_length)\n",
    "        \n",
    "        outs = self.predict(in_ids, in_masks, in_segs)\n",
    "        return {'sentence_embs': outs}\n",
    "\n",
    "    \n",
    "def build_scu_model(ctx_len = 5, dim=768):\n",
    "    \n",
    "    inp_emb = tf.keras.layers.Input(shape=(ctx_len, dim), dtype=tf.float32, name=\"nlu_input\")\n",
    "    \n",
    "    d1 = tf.keras.layers.Dense(1024, activation='tanh', name='d1')\n",
    "    d2 = tf.keras.layers.Dense(768, activation='tanh',  name='d2')\n",
    "    \n",
    "    enc_q = tf.reshape(inp_emb, (-1, ctx_len, 768))\n",
    "    enc_q = tf.keras.layers.GlobalAveragePooling1D()(enc_q)\n",
    "    enc_q = d1(enc_q)\n",
    "    enc_q = d2(enc_q)\n",
    "\n",
    "    final_state_encoded = tf.identity(enc_q, \"state_output\")\n",
    "    t_model = tf.keras.models.Model(inputs=[inp_emb], outputs=[final_state_encoded])\n",
    "    \n",
    "    return t_model"
   ]
  },
  {
   "cell_type": "code",
   "execution_count": 17,
   "metadata": {},
   "outputs": [
    {
     "name": "stdout",
     "output_type": "stream",
     "text": [
      "['import/tok_input', 'import/msk_input', 'import/seg_input'] ['import/pooled_output']\n",
      "WARNING:tensorflow:From /usr/local/anaconda3/envs/python3/lib/python3.6/site-packages/tensorflow_core/python/ops/resource_variable_ops.py:1630: calling BaseResourceVariable.__init__ (from tensorflow.python.ops.resource_variable_ops) with constraint is deprecated and will be removed in a future version.\n",
      "Instructions for updating:\n",
      "If using Keras pass *_constraint arguments to layers.\n"
     ]
    }
   ],
   "source": [
    "vocab_path = 'vocab.txt'\n",
    "\n",
    "max_sequence_length = 24\n",
    "tokenizer = FullTokenizer(vocab_file=vocab_path, do_lower_case=True)\n",
    "\n",
    "bes = SBERT(model_path='rene_labse.pbtxt',\n",
    "            tokenizer=tokenizer,\n",
    "            seq_len=24)\n",
    "\n",
    "rene_mlp = build_scu_model()\n",
    "rene_mlp.load_weights('rene_mlp.h5')"
   ]
  },
  {
   "cell_type": "code",
   "execution_count": 18,
   "metadata": {},
   "outputs": [],
   "source": [
    "#возьмем последние 5 запросов для usera 1\n",
    "request = last_story_uid[1]"
   ]
  },
  {
   "cell_type": "code",
   "execution_count": 19,
   "metadata": {},
   "outputs": [
    {
     "data": {
      "text/plain": [
       "['просмотренные теги:парки, экотропы, петр бирюков, настилы. просмотренные сферы:городское хозяйство, мой район, комфорт',\n",
       " 'просмотренные теги:награды, школьники, олимпиады, международная географическая олимпиада. просмотренные сферы:образование',\n",
       " 'просмотренные теги:отопление, подготовка, отопительный сезон, жилые дома, петр бирюков, системы теплоснабжения. просмотренные сферы:городское хозяйство',\n",
       " 'просмотренные теги:реконструкция, москомархитектура, юлиана княжевская, нмиц глазных болезней имени гельмгольца. просмотренные сферы:строительство и реконструкция, здравоохранение, комфорт: социальная инфраструктура: здравоохранение',\n",
       " 'просмотренные теги:экология, электробусы, сергей собянин, контракты жизненного цикла. просмотренные сферы:транспорт']"
      ]
     },
     "execution_count": 19,
     "metadata": {},
     "output_type": "execute_result"
    }
   ],
   "source": [
    "request[0]"
   ]
  },
  {
   "cell_type": "code",
   "execution_count": 20,
   "metadata": {},
   "outputs": [],
   "source": [
    "#чтобы получить контекстный вектор для поиска - необходимо сначала запустить bert_encoder - bes\n",
    "#далее отправить в контекстную модель менеджера для отображения в контекст rene_mlp\n",
    "r = bes.get_embs(request[0])['sentence_embs']\n",
    "v = rene_mlp.predict(np.array([r]))"
   ]
  },
  {
   "cell_type": "code",
   "execution_count": 21,
   "metadata": {},
   "outputs": [
    {
     "data": {
      "text/plain": [
       "((5, 768), (1, 768))"
      ]
     },
     "execution_count": 21,
     "metadata": {},
     "output_type": "execute_result"
    }
   ],
   "source": [
    "r.shape, v.shape #r-хранит изначальные вектора контекста, а v-перевзвешенный контекстный вектор относительно рекомендации"
   ]
  },
  {
   "cell_type": "code",
   "execution_count": null,
   "metadata": {},
   "outputs": [],
   "source": []
  },
  {
   "cell_type": "code",
   "execution_count": 22,
   "metadata": {},
   "outputs": [],
   "source": [
    "#чтобы получить рекомендацию для юзера 10 по его последнему вектору истории V надо векторизовать базу новостей\n",
    "#базу новостей векторизуем просто с помощью bes модели (тк она без контекстная)\n",
    "cands_tags=list(cands_tags.values)"
   ]
  },
  {
   "cell_type": "code",
   "execution_count": 23,
   "metadata": {},
   "outputs": [],
   "source": [
    "basa_news_vecs= bes.get_embs(cands_tags)['sentence_embs']"
   ]
  },
  {
   "cell_type": "code",
   "execution_count": 24,
   "metadata": {},
   "outputs": [
    {
     "data": {
      "text/plain": [
       "(6554, 768)"
      ]
     },
     "execution_count": 24,
     "metadata": {},
     "output_type": "execute_result"
    }
   ],
   "source": [
    "basa_news_vecs.shape"
   ]
  },
  {
   "cell_type": "code",
   "execution_count": 25,
   "metadata": {},
   "outputs": [
    {
     "data": {
      "text/plain": [
       "array([85482073.,  6906050.,  6670050., 88964073., 93886073., 91165073.,\n",
       "       65016073., 82164073.,  7520050., 80352073., 48324073.,  7529050.,\n",
       "       90368073., 48401073., 41498073.,  5528050.,  6285050.,  5529050.,\n",
       "       92805073.,  5397050., 92551073.,  5849050., 78167073.,  6689050.,\n",
       "       85674073., 92118073.,  7096050.,  7513050., 58865073., 55453073.,\n",
       "       58932073.,  4872050., 92856073.,  5970050., 93578073.,  7560050.,\n",
       "       93992073., 88862073., 89421073., 93664073., 87703073.,  7400050.,\n",
       "        7399050.,  7280050.,  7176050.,  6638050.,  6726050.,  6550050.,\n",
       "        7073050.,  5825050.,  4847050., 60088073.,  5566050.,  6335050.,\n",
       "        5038050.])"
      ]
     },
     "execution_count": 25,
     "metadata": {},
     "output_type": "execute_result"
    }
   ],
   "source": [
    "user5story[user5story.uid == 10][:-1]['id'].values"
   ]
  },
  {
   "cell_type": "code",
   "execution_count": null,
   "metadata": {},
   "outputs": [],
   "source": []
  },
  {
   "cell_type": "code",
   "execution_count": 26,
   "metadata": {},
   "outputs": [],
   "source": [
    "#найдем топ100 ответов к ремонедации и отфильтруем по предыстории уже просмотренные"
   ]
  },
  {
   "cell_type": "code",
   "execution_count": 27,
   "metadata": {},
   "outputs": [],
   "source": [
    "scores = v @ basa_news_vecs.T #в ФАИСС просто дот прод (а тут это матрич перемножение поэтому транспонируем)\n",
    "preds = np.argsort(-1*scores)[:,:100].flatten() #id лучших топ100 в индексе\n",
    "y_hist = user5story[user5story.uid == 10]['id'].values\n",
    "top100_cans = [t for k,t in enumerate(list(tags_news_ids[preds])) if t not in y_hist] #переводим id индексав id новости tags_news_ids"
   ]
  },
  {
   "cell_type": "code",
   "execution_count": null,
   "metadata": {},
   "outputs": [],
   "source": []
  },
  {
   "cell_type": "code",
   "execution_count": 28,
   "metadata": {},
   "outputs": [
    {
     "data": {
      "text/plain": [
       "[94636073,\n",
       " 94722073,\n",
       " 94688073,\n",
       " 94679073,\n",
       " 94696073,\n",
       " 94669073,\n",
       " 94707073,\n",
       " 94703073,\n",
       " 7573050,\n",
       " 94605073,\n",
       " 94699073,\n",
       " 94720073,\n",
       " 7574050,\n",
       " 94702073,\n",
       " 94701073,\n",
       " 93588073,\n",
       " 94736073,\n",
       " 94794073,\n",
       " 94717073,\n",
       " 94534073]"
      ]
     },
     "execution_count": 28,
     "metadata": {},
     "output_type": "execute_result"
    }
   ],
   "source": [
    "top100_cans[:20]"
   ]
  },
  {
   "cell_type": "code",
   "execution_count": null,
   "metadata": {},
   "outputs": [],
   "source": []
  },
  {
   "cell_type": "code",
   "execution_count": 29,
   "metadata": {},
   "outputs": [
    {
     "data": {
      "text/plain": [
       "['школа и детский сад: здание-трансформер построят в районе тропарево-никулино',\n",
       " 'сергей собянин: на территории бывшей промзоны «зил» появится самая большая школа в россии',\n",
       " 'сергей собянин: в москве реализуется огромная программа модернизации поликлиник',\n",
       " 'в парке горького открыли вход со стороны ленинского проспекта',\n",
       " 'почему сад нескучный, театр зеленый, а девушка — с веслом: пять историй из парка горького']"
      ]
     },
     "execution_count": 29,
     "metadata": {},
     "output_type": "execute_result"
    }
   ],
   "source": [
    "#Теперь посмотрим на последние 5 просмотров и что рекомендует по ним\n",
    "#Это просмотры\n",
    "user5story[user5story.uid == 10][-1:]['text_query'].values[0].split('|')"
   ]
  },
  {
   "cell_type": "code",
   "execution_count": 30,
   "metadata": {},
   "outputs": [
    {
     "data": {
      "text/plain": [
       "['просмотренные теги:детские сады, москомархитектура, юлиана княжевская. просмотренные сферы:строительство и реконструкция, образование',\n",
       " 'просмотренные теги:реконструкция, строительство, школы, зил, жилая недвижимость, тюфелева роща. просмотренные сферы:образование, комфорт, планы',\n",
       " 'просмотренные теги:благоустройство, здравоохранение, поликлиники, сергей собянин, бибирево, мой район. просмотренные сферы:здравоохранение, мой район, комфорт, мой район: избранное, город: детали',\n",
       " 'просмотренные теги:благоустройство, сергей собянин, парк горького, пешеходные маршруты. просмотренные сферы:парки и пешеходные зоны',\n",
       " 'просмотренные теги:парк горького, нескучный сад, история москвы, зелёный театр, девушка с веслом. просмотренные сферы:культура, музейные истории, уникальность, уникальность: знаковые культурно-исторические объекты']"
      ]
     },
     "execution_count": 30,
     "metadata": {},
     "output_type": "execute_result"
    }
   ],
   "source": [
    "#Его теги\n",
    "user5story[user5story.uid == 10][-1:]['text_env'].values[0].split('|')"
   ]
  },
  {
   "cell_type": "code",
   "execution_count": 31,
   "metadata": {},
   "outputs": [
    {
     "data": {
      "text/plain": [
       "array(['Экотропу со смотровыми площадками и качелями откроют в будущем парке «Яуза» в сентябре',\n",
       "       'В сервисе «Вместе с культурой» появились подборки помещений для разных мероприятий',\n",
       "       'Модернизация и реставрация: как ремонтировали Большой Каменный мост',\n",
       "       'В поселке Марьино построят детский сад на 200 мест',\n",
       "       'Москва поднялась на четыре позиции в рейтинге инновационных городов Европы',\n",
       "       'Джаз, соул и ритм-н-блюз на ВДНХ: каким будет новый сезон проекта «Музыка на крыше»',\n",
       "       'Судьба артефакта: как археологические находки попадают в музеи',\n",
       "       'В пойме реки Чермянки появится два памп-трека',\n",
       "       'Больше половины жилых домов подготовили к отопительному сезону',\n",
       "       '92 процента городских объектов подготовили к отопительному сезону',\n",
       "       'Надежный старт: как начать карьеру в Московском метрополитене',\n",
       "       'Корпус центра глазных болезней имени Гельмгольца реконструируют',\n",
       "       'Пятиэтажку в Ростокине расселили по программе реновации',\n",
       "       'На базе библиотеки № 110 откроется Культурный центр фронтовых поэтов',\n",
       "       'Трамвайное депо имени Н.Э. Баумана оформят в индустриальном стиле',\n",
       "       'Дом по программе реновации в Можайском районе сдадут в 2022 году',\n",
       "       'Москвичи отправили на переработку около 500 тысяч тонн вторсырья за полгода',\n",
       "       'Поговорить и получить услугу: как обновился голосовой помощник в приложении «Моя Москва»',\n",
       "       'Сергей Собянин рассказал о развитии электротранспорта в Москве',\n",
       "       'Московские школьники получили три медали на Международной географической олимпиаде'],\n",
       "      dtype=object)"
      ]
     },
     "execution_count": 31,
     "metadata": {},
     "output_type": "execute_result"
    }
   ],
   "source": [
    "#Далее рекомендации\n",
    "df_news[df_news['id'].isin(top100_cans[:20])]['text_title'].values"
   ]
  },
  {
   "cell_type": "code",
   "execution_count": 32,
   "metadata": {},
   "outputs": [
    {
     "data": {
      "text/plain": [
       "array(['просмотренные теги:парки, экотропы, петр бирюков, настилы',\n",
       "       'просмотренные теги:культура, дома культуры, мероприятие, вместе с культурой',\n",
       "       'просмотренные теги:реставрация, мосты, капитальный ремонт, большой каменный мост',\n",
       "       'просмотренные теги:тинао, дети, детские сады, валерий леонов, филимонковское',\n",
       "       'просмотренные теги:рейтинги, наталья сергунина, владимир ефимов, александр прохоров, инвестиции инновации',\n",
       "       'просмотренные теги:вднх, концерты, кино, рабочий и колхозница, саундтреки, музыка на крыше',\n",
       "       'просмотренные теги:реставрация, история, археология, находки, артефакты',\n",
       "       'просмотренные теги:благоустройство, спорт, реки, памп-треки, чермянка',\n",
       "       'просмотренные теги:отопление, подготовка, отопительный сезон, жилые дома, петр бирюков',\n",
       "       'просмотренные теги:отопление, подготовка, отопительный сезон, жилые дома, петр бирюков, системы теплоснабжения',\n",
       "       'просмотренные теги:трудоустройство, московский метрополитен, молодые специалисты, работа в метро, студенческие отряды',\n",
       "       'просмотренные теги:реконструкция, москомархитектура, юлиана княжевская, нмиц глазных болезней имени гельмгольца',\n",
       "       'просмотренные теги:новостройки, ростокино, жилые дома, программа реновации, сергей левкин',\n",
       "       'просмотренные теги:культура, библиотеки, великая отечественная война, культурный центр фронтовых поэтов',\n",
       "       'просмотренные теги:реконструкция, трамваи, сергей кузнецов, депо',\n",
       "       'просмотренные теги:новостройки, реновация, квартиры, можайский район, рафик загрутдинов',\n",
       "       'просмотренные теги:мусор, петр бирюков, вторсырье, твердые бытовые отходы',\n",
       "       'просмотренные теги:приложения, моя москва, эдуард лысенко, голосовые помощники',\n",
       "       'просмотренные теги:экология, электробусы, сергей собянин, контракты жизненного цикла',\n",
       "       'просмотренные теги:награды, школьники, олимпиады, международная географическая олимпиада'],\n",
       "      dtype=object)"
      ]
     },
     "execution_count": 32,
     "metadata": {},
     "output_type": "execute_result"
    }
   ],
   "source": [
    "df_news[df_news['id'].isin(top100_cans[:20])]['news_tags'].values"
   ]
  },
  {
   "cell_type": "code",
   "execution_count": 33,
   "metadata": {},
   "outputs": [
    {
     "data": {
      "text/plain": [
       "array(['просмотренные сферы:городское хозяйство, мой район, комфорт',\n",
       "       'просмотренные сферы:культура, имущественно-земельные отношения, технологии',\n",
       "       'просмотренные сферы:строительство и реконструкция, городское хозяйство, мой район, уникальность: знаковые культурно-исторические объекты, качество: благоустройство, мой район: избранное',\n",
       "       'просмотренные сферы:строительство и реконструкция, мой район, комфорт: социальная инфраструктура: образование',\n",
       "       'просмотренные сферы:экономика и предпринимательство, достижения',\n",
       "       'просмотренные сферы:парки и пешеходные зоны',\n",
       "       'просмотренные сферы:археология и памятники архитектуры, музейные истории',\n",
       "       'просмотренные сферы:парки и пешеходные зоны, мой район, благоустройство',\n",
       "       'просмотренные сферы:городское хозяйство',\n",
       "       'просмотренные сферы:городское хозяйство',\n",
       "       'просмотренные сферы:транспорт',\n",
       "       'просмотренные сферы:строительство и реконструкция, здравоохранение, комфорт: социальная инфраструктура: здравоохранение',\n",
       "       'просмотренные сферы:московская программа реновации жилья, мой район, комфорт: современный жилой фонд',\n",
       "       'просмотренные сферы:культура, мой район, комфорт: досуговая инфраструктура',\n",
       "       'просмотренные сферы:транспорт, строительство и реконструкция, мой район, комфорт',\n",
       "       'просмотренные сферы:московская программа реновации жилья, мой район',\n",
       "       'просмотренные сферы:городское хозяйство, комфорт',\n",
       "       'просмотренные сферы:технологии', 'просмотренные сферы:транспорт',\n",
       "       'просмотренные сферы:образование'], dtype=object)"
      ]
     },
     "execution_count": 33,
     "metadata": {},
     "output_type": "execute_result"
    }
   ],
   "source": [
    "df_news[df_news['id'].isin(top100_cans[:20])]['spheeres'].values"
   ]
  },
  {
   "cell_type": "markdown",
   "metadata": {},
   "source": [
    "### Выводы:\n",
    "    Как видим модель понимает из языка интересы о детсадах и школах а так же благоустройстве и рекомендует все вокруг этой тематики\n",
    "    и даже учитывает возможность для разнообразия предложить новости инноваций для благоустройства города"
   ]
  },
  {
   "cell_type": "code",
   "execution_count": null,
   "metadata": {},
   "outputs": [],
   "source": []
  }
 ],
 "metadata": {
  "interpreter": {
   "hash": "8958e250373a7d5ad06cf2ef179e0a5295e2d435cbd5cb9dbd9068d60d9fd088"
  },
  "kernelspec": {
   "display_name": "Python 3.6.9 64-bit ('python3': conda)",
   "name": "python3"
  },
  "language_info": {
   "codemirror_mode": {
    "name": "ipython",
    "version": 3
   },
   "file_extension": ".py",
   "mimetype": "text/x-python",
   "name": "python",
   "nbconvert_exporter": "python",
   "pygments_lexer": "ipython3",
   "version": "3.6.9"
  }
 },
 "nbformat": 4,
 "nbformat_minor": 4
}
